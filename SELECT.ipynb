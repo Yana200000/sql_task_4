{
 "cells": [
  {
   "cell_type": "code",
   "execution_count": 18,
   "id": "39968355",
   "metadata": {},
   "outputs": [
    {
     "data": {
      "text/plain": [
       "[]"
      ]
     },
     "execution_count": 18,
     "metadata": {},
     "output_type": "execute_result"
    }
   ],
   "source": [
    "connection.execute(\"\"\"SELECT album_name, year_launch FROM album\n",
    "WHERE year_launch = 2018;\n",
    "\"\"\").fetchmany(10)"
   ]
  },
  {
   "cell_type": "code",
   "execution_count": 25,
   "id": "607726e2",
   "metadata": {},
   "outputs": [
    {
     "data": {
      "text/plain": [
       "[('Deluxe', 276)]"
      ]
     },
     "execution_count": 25,
     "metadata": {},
     "output_type": "execute_result"
    }
   ],
   "source": [
    "connection.execute(\"\"\"SELECT MAX(track_length) FROM track\n",
    "\"\"\").fetchall()\n",
    "\n",
    "connection.execute(\"\"\"SELECT track_name, track_length FROM track\n",
    "WHERE track_length = 276\n",
    "\"\"\").fetchall()"
   ]
  },
  {
   "cell_type": "code",
   "execution_count": 26,
   "id": "0e8950fb",
   "metadata": {},
   "outputs": [
    {
     "data": {
      "text/plain": [
       "[('Sway',),\n",
       " ('Broken machine',),\n",
       " ('Amsterdam',),\n",
       " ('Дворовые рейвы',),\n",
       " ('Beautiful',),\n",
       " ('Deluxe',)]"
      ]
     },
     "execution_count": 26,
     "metadata": {},
     "output_type": "execute_result"
    }
   ],
   "source": [
    "connection.execute(\"\"\"SELECT track_name FROM track\n",
    "WHERE track_length >= 210\n",
    "\"\"\").fetchmany(10)"
   ]
  },
  {
   "cell_type": "code",
   "execution_count": 29,
   "id": "03206448",
   "metadata": {},
   "outputs": [
    {
     "data": {
      "text/plain": [
       "[('eighth',)]"
      ]
     },
     "execution_count": 29,
     "metadata": {},
     "output_type": "execute_result"
    }
   ],
   "source": [
    "connection.execute(\"\"\"SELECT coll_name FROM collection\n",
    "WHERE coll_year_launch between 2018 and 2020\n",
    "\"\"\").fetchmany(10)"
   ]
  },
  {
   "cell_type": "code",
   "execution_count": 40,
   "id": "80f572bc",
   "metadata": {},
   "outputs": [
    {
     "data": {
      "text/plain": [
       "[('Nizkiz',), ('Мукка',), ('Televisor',)]"
      ]
     },
     "execution_count": 40,
     "metadata": {},
     "output_type": "execute_result"
    }
   ],
   "source": [
    "connection.execute(\"\"\"SELECT nickname FROM executor\n",
    "WHERE nickname NOT LIKE '%% %%';\n",
    "\"\"\").fetchmany(10)"
   ]
  },
  {
   "cell_type": "code",
   "execution_count": 41,
   "id": "4e2e881c",
   "metadata": {},
   "outputs": [
    {
     "data": {
      "text/plain": [
       "[]"
      ]
     },
     "execution_count": 41,
     "metadata": {},
     "output_type": "execute_result"
    }
   ],
   "source": [
    "connection.execute(\"\"\"SELECT track_name FROM track\n",
    "WHERE track_name LIKE '%%my%%'\n",
    "\"\"\").fetchmany(10)"
   ]
  }
 ],
 "metadata": {
  "kernelspec": {
   "display_name": "Python 3",
   "language": "python",
   "name": "python3"
  },
  "language_info": {
   "codemirror_mode": {
    "name": "ipython",
    "version": 3
   },
   "file_extension": ".py",
   "mimetype": "text/x-python",
   "name": "python",
   "nbconvert_exporter": "python",
   "pygments_lexer": "ipython3",
   "version": "3.8.8"
  }
 },
 "nbformat": 4,
 "nbformat_minor": 5
}
